{
 "cells": [
  {
   "cell_type": "code",
   "execution_count": 1,
   "metadata": {},
   "outputs": [],
   "source": [
    "import cv2 as cv\n",
    "import os\n",
    "import numpy\n",
    "import pandas as pd\n",
    "from sklearn.model_selection import train_test_split\n",
    "from sklearn.linear_model import LogisticRegression"
   ]
  },
  {
   "cell_type": "code",
   "execution_count": 2,
   "metadata": {},
   "outputs": [],
   "source": [
    "############# Preprocessing ##############\n",
    "sign1={}\n",
    "sign2={}\n",
    "\n",
    "def func(basePathFunc,sign,num):\n",
    "    i=0\n",
    "    for images in os.listdir(basePathFunc):\n",
    "        if(images.endswith(\".ppm\")):\n",
    "            img = cv.imread(basePathFunc + \"/\" + images)\n",
    "            dsize=(32,32)\n",
    "            \n",
    "            # resize the image\n",
    "            img = cv.resize(img, dsize)\n",
    "            \n",
    "            # convert to array of num\n",
    "            np_img = numpy.array(img)\n",
    "            \n",
    "            #add to array\n",
    "            np_img = np_img.flatten()\n",
    "            np_img= numpy.append(num,np_img)\n",
    "            sign[i]=np_img\n",
    "            \n",
    "            i += 1\n",
    "\n",
    "func(\"./dataset/training/00053\", sign1, 0)\n",
    "func(\"./dataset/training/00022\", sign2, 1)\n"
   ]
  },
  {
   "cell_type": "code",
   "execution_count": 3,
   "metadata": {},
   "outputs": [],
   "source": [
    "############# Dataframes ##############\n",
    "df1 = pd.DataFrame(sign1)\n",
    "df1 = df1.T\n",
    "\n",
    "df2 = pd.DataFrame(sign2)\n",
    "df2 = df2.T\n",
    "\n",
    "frame = [df1,df2]\n",
    "df = pd.concat(frame)\n",
    "\n",
    "# df"
   ]
  },
  {
   "cell_type": "code",
   "execution_count": 4,
   "metadata": {},
   "outputs": [],
   "source": [
    "############# Splitting data ##############\n",
    "X = df.drop(0,axis=1)\n",
    "y = df[0]\n",
    "\n",
    "X_train, X_test, y_train, y_test = train_test_split(X, y, test_size=0.3, stratify=y, random_state=42)"
   ]
  },
  {
   "cell_type": "code",
   "execution_count": 8,
   "metadata": {},
   "outputs": [
    {
     "name": "stdout",
     "output_type": "stream",
     "text": [
      "Logistic Regression model accuracy (in %): 100.0\n",
      "Logistic Regression Score : 1.0\n"
     ]
    }
   ],
   "source": [
    "############# Logistic Regression ##############\n",
    "lr = LogisticRegression()\n",
    "lr.fit(X_train, y_train)\n",
    "y_pred = lr.predict(X_test)\n",
    "from sklearn.metrics import accuracy_score\n",
    "acc = accuracy_score(y_test, y_pred)\n",
    "print(\"Logistic Regression model accuracy (in %):\", acc*100)\n",
    "\n",
    "score = lr.score(X_test, y_test)\n",
    "print(\"Logistic Regression Score :\", score)"
   ]
  },
  {
   "cell_type": "code",
   "execution_count": 6,
   "metadata": {},
   "outputs": [
    {
     "name": "stdout",
     "output_type": "stream",
     "text": [
      "Prediction result :  1\n"
     ]
    }
   ],
   "source": [
    "############# Predict Image ##############\n",
    "def predict_image(image_path):\n",
    "    img = cv.imread(image_path)\n",
    "    dsize=(32,32)\n",
    "    # resize the image\n",
    "    img = cv.resize(img, dsize)\n",
    "    # convert to array of num\n",
    "    np_img = numpy.array(img)\n",
    "    #add to array\n",
    "    np_img = np_img.flatten()\n",
    "    pred = pd.DataFrame(np_img)\n",
    "    pred_img = pred.T\n",
    "    return lr.predict(pred_img)[0]\n",
    "\n",
    "predicted = predict_image(\"./dataset/testing/00022/dash_007.ppm\")\n",
    "print(\"Prediction result : \", predicted)"
   ]
  },
  {
   "cell_type": "code",
   "execution_count": 9,
   "metadata": {},
   "outputs": [
    {
     "name": "stdout",
     "output_type": "stream",
     "text": [
      "Result of 00053 images prediction : [0, 0, 0, 0, 0, 0, 0, 0, 0, 0, 0, 0, 0, 0, 0, 0, 0, 0, 0, 0]\n",
      "Result of 00022 images prediction : [1, 1, 1, 1, 1, 1, 1, 1, 1, 1, 1, 1, 1, 1, 1, 1, 1, 1, 1, 1]\n"
     ]
    }
   ],
   "source": [
    "############# Pedicting Set of images ##############\n",
    "def get_images(folder_path, extension=\".ppm\", num_images=20):\n",
    "    images = []\n",
    "    # List all files in the directory\n",
    "    files = os.listdir(folder_path)\n",
    "    # Filter files with the specified extension\n",
    "    ppm_files = [file for file in files if file.endswith(extension)]\n",
    "    # Load the first 'num_images' images\n",
    "    for i in range(min(num_images, len(ppm_files))):\n",
    "        img_path = os.path.join(folder_path, ppm_files[i])\n",
    "        images.append(img_path)\n",
    "    return images\n",
    "\n",
    "def predict_images(images_path):\n",
    "    i = 0\n",
    "    pred = []\n",
    "    for img in images_path:\n",
    "        pred_img = predict_image(img)\n",
    "        pred.append(pred_img)\n",
    "        i += 1\n",
    "    return pred\n",
    "\n",
    "# Get Images\n",
    "images_53_paths = get_images(\"./dataset/testing/00053\")\n",
    "images_22_paths = get_images(\"./dataset/testing/00022\")\n",
    "\n",
    "# Test images\n",
    "print(\"Result of 00053 images prediction :\", predict_images(images_53_paths) )\n",
    "print(\"Result of 00022 images prediction :\", predict_images(images_22_paths) )"
   ]
  }
 ],
 "metadata": {
  "kernelspec": {
   "display_name": "base",
   "language": "python",
   "name": "python3"
  },
  "language_info": {
   "codemirror_mode": {
    "name": "ipython",
    "version": 3
   },
   "file_extension": ".py",
   "mimetype": "text/x-python",
   "name": "python",
   "nbconvert_exporter": "python",
   "pygments_lexer": "ipython3",
   "version": "3.11.5"
  }
 },
 "nbformat": 4,
 "nbformat_minor": 2
}
