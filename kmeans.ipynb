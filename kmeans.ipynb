{
 "cells": [
  {
   "cell_type": "code",
   "execution_count": null,
   "metadata": {},
   "outputs": [],
   "source": [
    "import os\n",
    "import numpy as np\n",
    "from skimage import io, transform, feature\n",
    "from sklearn.cluster import KMeans\n",
    "import matplotlib.pyplot as plt\n",
    "from sklearn.preprocessing import StandardScaler\n",
    "import matplotlib.pyplot as plt\n",
    "from sklearn.metrics import silhouette_score\n",
    "from sklearn.decomposition import PCA\n",
    "from sklearn.preprocessing import MinMaxScaler"
   ]
  },
  {
   "cell_type": "code",
   "execution_count": null,
   "metadata": {},
   "outputs": [],
   "source": [
    "############# Load dataset ##############\n",
    "def load_images(folder_path):\n",
    "    images = []\n",
    "\n",
    "    for root, dirs, files in os.walk(folder_path):\n",
    "        for filename in files:\n",
    "            if filename.endswith(('.ppm')):\n",
    "                img_path = os.path.join(root, filename)\n",
    "                img = io.imread(img_path)\n",
    "                img = transform.resize(img, (64, 64), anti_aliasing=True)\n",
    "                images.append(img)\n",
    "    \n",
    "    return np.array(images)\n",
    "\n",
    "# Load and preprocess images using HOG features\n",
    "X_train = load_images('./dataset/training/')\n",
    "X_test = load_images('./dataset/testing/')\n",
    "\n",
    "# Shuffle the training and testing datasets\n",
    "np.random.shuffle(X_train)\n",
    "np.random.shuffle(X_test)"
   ]
  },
  {
   "cell_type": "code",
   "execution_count": null,
   "metadata": {},
   "outputs": [],
   "source": [
    "############# Show samples from X_train ##############\n",
    "X_train_reshaped = X_train.reshape((-1, 64, 64, 3))\n",
    "\n",
    "num_samples_to_display = 20\n",
    "\n",
    "plt.figure(figsize=(20, 4))\n",
    "for i in range(num_samples_to_display):\n",
    "    plt.subplot(2, 10, i + 1)\n",
    "    plt.imshow(X_train_reshaped[i])\n",
    "    plt.axis('off')\n",
    "\n",
    "plt.show()"
   ]
  },
  {
   "cell_type": "code",
   "execution_count": null,
   "metadata": {},
   "outputs": [],
   "source": [
    "############# Extract HOG features ##############\n",
    "def extract_hog_features(images):\n",
    "    hog_features = []\n",
    "    for img in images:\n",
    "        # Specify channel_axis for multichannel images\n",
    "        hog_img = feature.hog(img, block_norm='L2-Hys', pixels_per_cell=(8, 8), cells_per_block=(2, 2), channel_axis=-1)\n",
    "        hog_features.append(hog_img)\n",
    "    return np.array(hog_features)\n",
    "\n",
    "X_train_hog = extract_hog_features(X_train)\n",
    "X_test_hog = extract_hog_features(X_test)"
   ]
  },
  {
   "cell_type": "code",
   "execution_count": null,
   "metadata": {},
   "outputs": [],
   "source": [
    "############# MinMaxScaler #############\n",
    "scaler = MinMaxScaler()\n",
    "X_train_scaled = scaler.fit_transform(X_train_hog)\n",
    "X_test_scaled = scaler.transform(X_test_hog)\n"
   ]
  },
  {
   "cell_type": "code",
   "execution_count": null,
   "metadata": {},
   "outputs": [],
   "source": [
    "############# PCA #############\n",
    "n_components = 50\n",
    "\n",
    "pca = PCA(n_components=n_components, random_state=42)\n",
    "\n",
    "X_train_pca = pca.fit_transform(X_train_scaled)\n",
    "X_test_pca = pca.transform(X_test_scaled)"
   ]
  },
  {
   "cell_type": "code",
   "execution_count": null,
   "metadata": {},
   "outputs": [],
   "source": [
    "############# Find optimal cluster number ##############\n",
    "def find_optimal_clusters(data, max_clusters=8):\n",
    "    distortions = []\n",
    "    \n",
    "    for i in range(1, max_clusters + 1):\n",
    "        kmeans = KMeans(n_init=10, n_clusters=i, init='random', random_state=42, max_iter=100)\n",
    "        kmeans.fit(data)\n",
    "        distortions.append(kmeans.inertia_)\n",
    "\n",
    "    plt.plot(range(1, max_clusters + 1), distortions, marker='o')\n",
    "    plt.title('Elbow Method for Optimal k')\n",
    "    plt.xlabel('Number of Clusters')\n",
    "    plt.ylabel('Distortion (Sum of Squared Distances)')\n",
    "    plt.show()\n",
    "\n",
    "find_optimal_clusters(X_train_pca)"
   ]
  },
  {
   "cell_type": "code",
   "execution_count": null,
   "metadata": {},
   "outputs": [],
   "source": [
    "############ K-Means ##############\n",
    "num_clusters = 5\n",
    "\n",
    "kmeans = KMeans(n_init=10, n_clusters=num_clusters, init='k-means++', random_state=42, max_iter=300)\n",
    "kmeans.fit(X_train_pca)\n",
    "\n",
    "labels = kmeans.labels_"
   ]
  },
  {
   "cell_type": "code",
   "execution_count": null,
   "metadata": {},
   "outputs": [],
   "source": [
    "# # Tuning num_clusters\n",
    "# for num_clusters in range(2, 11):\n",
    "#     kmeans = KMeans(n_init=10, n_clusters=num_clusters, init='random', random_state=42, max_iter=100)\n",
    "#     kmeans.fit(X_train_pca)\n",
    "#     sil_score = silhouette_score(X_train_pca, kmeans.labels_)\n",
    "#     print(f'Number of Clusters: {num_clusters}, Silhouette Score: {sil_score}')"
   ]
  },
  {
   "cell_type": "code",
   "execution_count": null,
   "metadata": {},
   "outputs": [],
   "source": [
    "############# Display Samples from each cluster ##############\n",
    "for i in range(num_clusters):\n",
    "    cluster_indices = np.where(labels == i)[0]\n",
    "    plt.figure(figsize=(15, 1))\n",
    "    for j, index in enumerate(cluster_indices[:15]):\n",
    "        plt.subplot(1, 15, j + 1)\n",
    "        plt.imshow(X_train[index])\n",
    "        plt.axis('off')\n",
    "    plt.suptitle(f'Cluster {i}')\n",
    "    plt.show()"
   ]
  },
  {
   "cell_type": "code",
   "execution_count": null,
   "metadata": {},
   "outputs": [],
   "source": [
    "############# Display number of images of each cluster ##############\n",
    "for i in range(num_clusters):\n",
    "    cluster_indices = np.where(labels == i)[0]\n",
    "    numberOfImages = len(cluster_indices)\n",
    "    print(f'Number of images of cluster {i} : {numberOfImages}')"
   ]
  },
  {
   "cell_type": "code",
   "execution_count": null,
   "metadata": {},
   "outputs": [],
   "source": [
    "# ############## Display all images from each cluster ##############\n",
    "# import math\n",
    "\n",
    "# for i in range(num_clusters):\n",
    "#     cluster_indices = np.where(labels == i)[0]\n",
    "#     numberOfImages = len(cluster_indices)\n",
    "\n",
    "#     numberOfCols = 10\n",
    "#     numberOfRows = math.ceil(numberOfImages / numberOfCols)\n",
    "\n",
    "#     plt.figure(figsize=(numberOfCols * 2, numberOfRows * 2))\n",
    "#     for j, index in enumerate(cluster_indices[:numberOfImages]):\n",
    "#         plt.subplot(numberOfRows, numberOfCols, j + 1)\n",
    "#         plt.imshow(X_train[index])\n",
    "#         plt.axis('off')\n",
    "#     plt.suptitle(f'Cluster {i}')\n",
    "#     plt.show()"
   ]
  },
  {
   "cell_type": "code",
   "execution_count": null,
   "metadata": {},
   "outputs": [],
   "source": [
    "print(\"Train score :\", kmeans.score(X_train_pca))\n",
    "print(\"Test score :\", kmeans.score(X_test_pca))\n",
    "print(\"Centers :\", len(kmeans.cluster_centers_))\n",
    "print(\"Inertia :\", kmeans.inertia_)\n",
    "print(\"=========================================\")\n",
    "sil_score = silhouette_score(X_train_pca, kmeans.labels_)\n",
    "print(\"Silhouette Score :\", sil_score)"
   ]
  }
 ],
 "metadata": {
  "kernelspec": {
   "display_name": "base",
   "language": "python",
   "name": "python3"
  },
  "language_info": {
   "codemirror_mode": {
    "name": "ipython",
    "version": 3
   },
   "file_extension": ".py",
   "mimetype": "text/x-python",
   "name": "python",
   "nbconvert_exporter": "python",
   "pygments_lexer": "ipython3",
   "version": "3.11.5"
  }
 },
 "nbformat": 4,
 "nbformat_minor": 2
}
