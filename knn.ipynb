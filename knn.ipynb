{
 "cells": [
  {
   "cell_type": "code",
   "execution_count": 21,
   "metadata": {},
   "outputs": [],
   "source": [
    "import pandas as pd\n",
    "house_ds = pd.read_csv(\"Housing.csv\")"
   ]
  },
  {
   "cell_type": "code",
   "execution_count": 22,
   "metadata": {},
   "outputs": [
    {
     "name": "stdout",
     "output_type": "stream",
     "text": [
      "<class 'pandas.core.frame.DataFrame'>\n",
      "RangeIndex: 545 entries, 0 to 544\n",
      "Data columns (total 13 columns):\n",
      " #   Column            Non-Null Count  Dtype \n",
      "---  ------            --------------  ----- \n",
      " 0   price             545 non-null    int64 \n",
      " 1   area              545 non-null    int64 \n",
      " 2   bedrooms          545 non-null    int64 \n",
      " 3   bathrooms         545 non-null    int64 \n",
      " 4   stories           545 non-null    int64 \n",
      " 5   mainroad          545 non-null    object\n",
      " 6   guestroom         545 non-null    object\n",
      " 7   basement          545 non-null    object\n",
      " 8   hotwaterheating   545 non-null    object\n",
      " 9   airconditioning   545 non-null    object\n",
      " 10  parking           545 non-null    int64 \n",
      " 11  prefarea          545 non-null    object\n",
      " 12  furnishingstatus  545 non-null    object\n",
      "dtypes: int64(6), object(7)\n",
      "memory usage: 55.5+ KB\n"
     ]
    }
   ],
   "source": [
    "house_ds.info()"
   ]
  },
  {
   "cell_type": "code",
   "execution_count": 23,
   "metadata": {},
   "outputs": [],
   "source": [
    "from sklearn.preprocessing import LabelEncoder\n",
    "le = LabelEncoder()\n",
    "house_ds[\"guestroom_binary\"] = le.fit_transform(house_ds[\"guestroom\"])\n",
    "house_ds[\"mainroad_binary\"] = le.fit_transform(house_ds[\"mainroad\"])\n",
    "house_ds[\"basement_binary\"] = le.fit_transform(house_ds[\"basement\"])\n",
    "house_ds[\"hotwaterheating_binary\"] = le.fit_transform(house_ds[\"hotwaterheating\"])\n",
    "house_ds[\"airconditioning_binary\"] = le.fit_transform(house_ds[\"airconditioning\"])\n",
    "house_ds[\"prefarea_binary\"] = le.fit_transform(house_ds[\"prefarea\"])"
   ]
  },
  {
   "cell_type": "code",
   "execution_count": 24,
   "metadata": {},
   "outputs": [],
   "source": [
    "house_ds=house_ds.drop([\"mainroad\",\"guestroom\",\"basement\",\"hotwaterheating\",\"airconditioning\",\"prefarea\"],axis=1)"
   ]
  },
  {
   "cell_type": "code",
   "execution_count": 25,
   "metadata": {},
   "outputs": [],
   "source": [
    "house_ds=house_ds.join(pd.get_dummies(house_ds[\"furnishingstatus\"],dtype=int))\n",
    "house_ds=house_ds.drop(\"furnishingstatus\",axis=1)"
   ]
  },
  {
   "cell_type": "code",
   "execution_count": 26,
   "metadata": {},
   "outputs": [
    {
     "data": {
      "text/html": [
       "<div>\n",
       "<style scoped>\n",
       "    .dataframe tbody tr th:only-of-type {\n",
       "        vertical-align: middle;\n",
       "    }\n",
       "\n",
       "    .dataframe tbody tr th {\n",
       "        vertical-align: top;\n",
       "    }\n",
       "\n",
       "    .dataframe thead th {\n",
       "        text-align: right;\n",
       "    }\n",
       "</style>\n",
       "<table border=\"1\" class=\"dataframe\">\n",
       "  <thead>\n",
       "    <tr style=\"text-align: right;\">\n",
       "      <th></th>\n",
       "      <th>price</th>\n",
       "      <th>area</th>\n",
       "      <th>bedrooms</th>\n",
       "      <th>bathrooms</th>\n",
       "      <th>stories</th>\n",
       "      <th>parking</th>\n",
       "      <th>guestroom_binary</th>\n",
       "      <th>mainroad_binary</th>\n",
       "      <th>basement_binary</th>\n",
       "      <th>hotwaterheating_binary</th>\n",
       "      <th>airconditioning_binary</th>\n",
       "      <th>prefarea_binary</th>\n",
       "      <th>furnished</th>\n",
       "      <th>semi-furnished</th>\n",
       "      <th>unfurnished</th>\n",
       "    </tr>\n",
       "  </thead>\n",
       "  <tbody>\n",
       "    <tr>\n",
       "      <th>0</th>\n",
       "      <td>13300000</td>\n",
       "      <td>7420</td>\n",
       "      <td>4</td>\n",
       "      <td>2</td>\n",
       "      <td>3</td>\n",
       "      <td>2</td>\n",
       "      <td>0</td>\n",
       "      <td>1</td>\n",
       "      <td>0</td>\n",
       "      <td>0</td>\n",
       "      <td>1</td>\n",
       "      <td>1</td>\n",
       "      <td>1</td>\n",
       "      <td>0</td>\n",
       "      <td>0</td>\n",
       "    </tr>\n",
       "    <tr>\n",
       "      <th>1</th>\n",
       "      <td>12250000</td>\n",
       "      <td>8960</td>\n",
       "      <td>4</td>\n",
       "      <td>4</td>\n",
       "      <td>4</td>\n",
       "      <td>3</td>\n",
       "      <td>0</td>\n",
       "      <td>1</td>\n",
       "      <td>0</td>\n",
       "      <td>0</td>\n",
       "      <td>1</td>\n",
       "      <td>0</td>\n",
       "      <td>1</td>\n",
       "      <td>0</td>\n",
       "      <td>0</td>\n",
       "    </tr>\n",
       "    <tr>\n",
       "      <th>2</th>\n",
       "      <td>12250000</td>\n",
       "      <td>9960</td>\n",
       "      <td>3</td>\n",
       "      <td>2</td>\n",
       "      <td>2</td>\n",
       "      <td>2</td>\n",
       "      <td>0</td>\n",
       "      <td>1</td>\n",
       "      <td>1</td>\n",
       "      <td>0</td>\n",
       "      <td>0</td>\n",
       "      <td>1</td>\n",
       "      <td>0</td>\n",
       "      <td>1</td>\n",
       "      <td>0</td>\n",
       "    </tr>\n",
       "    <tr>\n",
       "      <th>3</th>\n",
       "      <td>12215000</td>\n",
       "      <td>7500</td>\n",
       "      <td>4</td>\n",
       "      <td>2</td>\n",
       "      <td>2</td>\n",
       "      <td>3</td>\n",
       "      <td>0</td>\n",
       "      <td>1</td>\n",
       "      <td>1</td>\n",
       "      <td>0</td>\n",
       "      <td>1</td>\n",
       "      <td>1</td>\n",
       "      <td>1</td>\n",
       "      <td>0</td>\n",
       "      <td>0</td>\n",
       "    </tr>\n",
       "    <tr>\n",
       "      <th>4</th>\n",
       "      <td>11410000</td>\n",
       "      <td>7420</td>\n",
       "      <td>4</td>\n",
       "      <td>1</td>\n",
       "      <td>2</td>\n",
       "      <td>2</td>\n",
       "      <td>1</td>\n",
       "      <td>1</td>\n",
       "      <td>1</td>\n",
       "      <td>0</td>\n",
       "      <td>1</td>\n",
       "      <td>0</td>\n",
       "      <td>1</td>\n",
       "      <td>0</td>\n",
       "      <td>0</td>\n",
       "    </tr>\n",
       "    <tr>\n",
       "      <th>...</th>\n",
       "      <td>...</td>\n",
       "      <td>...</td>\n",
       "      <td>...</td>\n",
       "      <td>...</td>\n",
       "      <td>...</td>\n",
       "      <td>...</td>\n",
       "      <td>...</td>\n",
       "      <td>...</td>\n",
       "      <td>...</td>\n",
       "      <td>...</td>\n",
       "      <td>...</td>\n",
       "      <td>...</td>\n",
       "      <td>...</td>\n",
       "      <td>...</td>\n",
       "      <td>...</td>\n",
       "    </tr>\n",
       "    <tr>\n",
       "      <th>540</th>\n",
       "      <td>1820000</td>\n",
       "      <td>3000</td>\n",
       "      <td>2</td>\n",
       "      <td>1</td>\n",
       "      <td>1</td>\n",
       "      <td>2</td>\n",
       "      <td>0</td>\n",
       "      <td>1</td>\n",
       "      <td>1</td>\n",
       "      <td>0</td>\n",
       "      <td>0</td>\n",
       "      <td>0</td>\n",
       "      <td>0</td>\n",
       "      <td>0</td>\n",
       "      <td>1</td>\n",
       "    </tr>\n",
       "    <tr>\n",
       "      <th>541</th>\n",
       "      <td>1767150</td>\n",
       "      <td>2400</td>\n",
       "      <td>3</td>\n",
       "      <td>1</td>\n",
       "      <td>1</td>\n",
       "      <td>0</td>\n",
       "      <td>0</td>\n",
       "      <td>0</td>\n",
       "      <td>0</td>\n",
       "      <td>0</td>\n",
       "      <td>0</td>\n",
       "      <td>0</td>\n",
       "      <td>0</td>\n",
       "      <td>1</td>\n",
       "      <td>0</td>\n",
       "    </tr>\n",
       "    <tr>\n",
       "      <th>542</th>\n",
       "      <td>1750000</td>\n",
       "      <td>3620</td>\n",
       "      <td>2</td>\n",
       "      <td>1</td>\n",
       "      <td>1</td>\n",
       "      <td>0</td>\n",
       "      <td>0</td>\n",
       "      <td>1</td>\n",
       "      <td>0</td>\n",
       "      <td>0</td>\n",
       "      <td>0</td>\n",
       "      <td>0</td>\n",
       "      <td>0</td>\n",
       "      <td>0</td>\n",
       "      <td>1</td>\n",
       "    </tr>\n",
       "    <tr>\n",
       "      <th>543</th>\n",
       "      <td>1750000</td>\n",
       "      <td>2910</td>\n",
       "      <td>3</td>\n",
       "      <td>1</td>\n",
       "      <td>1</td>\n",
       "      <td>0</td>\n",
       "      <td>0</td>\n",
       "      <td>0</td>\n",
       "      <td>0</td>\n",
       "      <td>0</td>\n",
       "      <td>0</td>\n",
       "      <td>0</td>\n",
       "      <td>1</td>\n",
       "      <td>0</td>\n",
       "      <td>0</td>\n",
       "    </tr>\n",
       "    <tr>\n",
       "      <th>544</th>\n",
       "      <td>1750000</td>\n",
       "      <td>3850</td>\n",
       "      <td>3</td>\n",
       "      <td>1</td>\n",
       "      <td>2</td>\n",
       "      <td>0</td>\n",
       "      <td>0</td>\n",
       "      <td>1</td>\n",
       "      <td>0</td>\n",
       "      <td>0</td>\n",
       "      <td>0</td>\n",
       "      <td>0</td>\n",
       "      <td>0</td>\n",
       "      <td>0</td>\n",
       "      <td>1</td>\n",
       "    </tr>\n",
       "  </tbody>\n",
       "</table>\n",
       "<p>545 rows × 15 columns</p>\n",
       "</div>"
      ],
      "text/plain": [
       "        price  area  bedrooms  bathrooms  stories  parking  guestroom_binary  \\\n",
       "0    13300000  7420         4          2        3        2                 0   \n",
       "1    12250000  8960         4          4        4        3                 0   \n",
       "2    12250000  9960         3          2        2        2                 0   \n",
       "3    12215000  7500         4          2        2        3                 0   \n",
       "4    11410000  7420         4          1        2        2                 1   \n",
       "..        ...   ...       ...        ...      ...      ...               ...   \n",
       "540   1820000  3000         2          1        1        2                 0   \n",
       "541   1767150  2400         3          1        1        0                 0   \n",
       "542   1750000  3620         2          1        1        0                 0   \n",
       "543   1750000  2910         3          1        1        0                 0   \n",
       "544   1750000  3850         3          1        2        0                 0   \n",
       "\n",
       "     mainroad_binary  basement_binary  hotwaterheating_binary  \\\n",
       "0                  1                0                       0   \n",
       "1                  1                0                       0   \n",
       "2                  1                1                       0   \n",
       "3                  1                1                       0   \n",
       "4                  1                1                       0   \n",
       "..               ...              ...                     ...   \n",
       "540                1                1                       0   \n",
       "541                0                0                       0   \n",
       "542                1                0                       0   \n",
       "543                0                0                       0   \n",
       "544                1                0                       0   \n",
       "\n",
       "     airconditioning_binary  prefarea_binary  furnished  semi-furnished  \\\n",
       "0                         1                1          1               0   \n",
       "1                         1                0          1               0   \n",
       "2                         0                1          0               1   \n",
       "3                         1                1          1               0   \n",
       "4                         1                0          1               0   \n",
       "..                      ...              ...        ...             ...   \n",
       "540                       0                0          0               0   \n",
       "541                       0                0          0               1   \n",
       "542                       0                0          0               0   \n",
       "543                       0                0          1               0   \n",
       "544                       0                0          0               0   \n",
       "\n",
       "     unfurnished  \n",
       "0              0  \n",
       "1              0  \n",
       "2              0  \n",
       "3              0  \n",
       "4              0  \n",
       "..           ...  \n",
       "540            1  \n",
       "541            0  \n",
       "542            1  \n",
       "543            0  \n",
       "544            1  \n",
       "\n",
       "[545 rows x 15 columns]"
      ]
     },
     "execution_count": 26,
     "metadata": {},
     "output_type": "execute_result"
    }
   ],
   "source": [
    "house_ds"
   ]
  },
  {
   "cell_type": "code",
   "execution_count": 27,
   "metadata": {},
   "outputs": [
    {
     "data": {
      "text/plain": [
       "price                     3.498544e+12\n",
       "area                      4.709512e+06\n",
       "bedrooms                  5.447383e-01\n",
       "bathrooms                 2.524757e-01\n",
       "stories                   7.525432e-01\n",
       "parking                   7.423300e-01\n",
       "guestroom_binary          1.465731e-01\n",
       "mainroad_binary           1.215461e-01\n",
       "basement_binary           2.280559e-01\n",
       "hotwaterheating_binary    4.384781e-02\n",
       "airconditioning_binary    2.163923e-01\n",
       "prefarea_binary           1.800324e-01\n",
       "furnished                 1.912439e-01\n",
       "semi-furnished            2.434768e-01\n",
       "unfurnished               2.203386e-01\n",
       "dtype: float64"
      ]
     },
     "execution_count": 27,
     "metadata": {},
     "output_type": "execute_result"
    }
   ],
   "source": [
    "house_ds.var()"
   ]
  },
  {
   "cell_type": "code",
   "execution_count": 28,
   "metadata": {},
   "outputs": [],
   "source": [
    "X=house_ds.drop(\"price\",axis=1)\n",
    "y=house_ds[\"price\"]"
   ]
  },
  {
   "cell_type": "code",
   "execution_count": 29,
   "metadata": {},
   "outputs": [],
   "source": [
    "from sklearn.model_selection import train_test_split\n",
    "from sklearn.neighbors import KNeighborsRegressor\n",
    "X_train, X_test, y_train, y_test = train_test_split(X, y, test_size=0.25, random_state=42)\n",
    "knn = KNeighborsRegressor()"
   ]
  },
  {
   "cell_type": "code",
   "execution_count": 30,
   "metadata": {},
   "outputs": [
    {
     "name": "stdout",
     "output_type": "stream",
     "text": [
      "normal score func = 0.3326235147346389\n"
     ]
    }
   ],
   "source": [
    "knn.fit(X_train,y_train)\n",
    "knn.score(X_test,y_test)\n",
    "print(\"normal score func = \" + str(knn.score(X_test,y_test)))"
   ]
  },
  {
   "cell_type": "code",
   "execution_count": 31,
   "metadata": {},
   "outputs": [
    {
     "name": "stdout",
     "output_type": "stream",
     "text": [
      "stabdard scaker score func = 0.6216966907068884\n"
     ]
    }
   ],
   "source": [
    "from sklearn.preprocessing import StandardScaler\n",
    "scaler = StandardScaler()\n",
    "X_train_scaledStd = scaler.fit_transform(X_train)\n",
    "X_test_scaledStd = scaler.transform(X_test)\n",
    "knn.fit(X_train_scaledStd,y_train)\n",
    "print(\"stabdard scaker score func = \" + str(knn.score(X_test_scaledStd,y_test)))"
   ]
  },
  {
   "cell_type": "code",
   "execution_count": 32,
   "metadata": {},
   "outputs": [
    {
     "name": "stdout",
     "output_type": "stream",
     "text": [
      "min max scaler score func = 0.5237644767408506\n"
     ]
    }
   ],
   "source": [
    "from sklearn.preprocessing import MinMaxScaler\n",
    "scaler = MinMaxScaler(feature_range=(0, 1))\n",
    "X_train_scaledMinMax = scaler.fit_transform(X_train)\n",
    "X_test_scaledMinMax = scaler.fit_transform(X_test)\n",
    "knn.fit(X_train_scaledMinMax,y_train)\n",
    "print(\"min max scaler score func = \" + str(knn.score(X_test_scaledMinMax,y_test)))"
   ]
  },
  {
   "cell_type": "code",
   "execution_count": 33,
   "metadata": {},
   "outputs": [
    {
     "name": "stdout",
     "output_type": "stream",
     "text": [
      "{1: 2036885.135315883, 2: 1846697.1320039083, 3: 1801978.3001147457, 4: 1800450.063539543, 5: 1753692.0511535523, 6: 1764925.768882617, 7: 1774579.2844373041, 8: 1813673.1541201961, 9: 1807792.2946808273, 10: 1791396.7559625516, 11: 1811920.0101430432, 12: 1824974.7394422702, 13: 1823922.731198477, 14: 1834533.0264592923, 15: 1826459.603864705, 16: 1836464.7787686384, 17: 1825730.4123128096, 18: 1841165.8916844893, 19: 1843136.3373248284, 20: 1837270.5274376876, 21: 1836770.3149821414, 22: 1835796.2631962823, 23: 1835557.752492485, 24: 1832188.8094247894, 25: 1840338.415520419}\n",
      "{1: 0.09967914329671956, 2: 0.2599593381939598, 3: 0.29536640224207455, 4: 0.2965610783439808, 5: 0.3326235147346389, 6: 0.32404603227967155, 7: 0.316631354700886, 8: 0.2861905672261901, 9: 0.2908121355598653, 10: 0.30361757785742416, 11: 0.28756987405650425, 12: 0.27726689452254005, 13: 0.2780998945906499, 14: 0.2696764541327151, 15: 0.2760903332990856, 16: 0.2681375916972806, 17: 0.2766682419915183, 18: 0.2643858491482207, 19: 0.2628104741798869, 20: 0.2674952417507852, 21: 0.26789404869784217, 22: 0.2686703243379527, 23: 0.26886034392562075, 24: 0.27154171687609185, 25: 0.26504691547976156}\n"
     ]
    }
   ],
   "source": [
    "import matplotlib.pyplot as plt\n",
    "import numpy as np\n",
    "from sklearn.metrics import mean_squared_error as MSE \n",
    "train_accuracies = {}\n",
    "test_accuracies = {}\n",
    "rmse_knn_arr = {}\n",
    "neighbors = np.arange(1, 26)\n",
    "for neighbor in neighbors:\n",
    "    knn = KNeighborsRegressor(n_neighbors=neighbor)\n",
    "    knn.fit(X_train, y_train)\n",
    "    train_accuracies[neighbor] = knn.score(X_train, y_train)\n",
    "    test_accuracies[neighbor] = knn.score(X_test, y_test)\n",
    "    y_pred=knn.predict(X_test)\n",
    "    mse_knn= MSE(y_test, y_pred)\n",
    "    rmse_knn = mse_knn**(1/2)\n",
    "    rmse_knn_arr[neighbor]=rmse_knn\n",
    "\n",
    "print(rmse_knn_arr)\n",
    "print(test_accuracies)"
   ]
  },
  {
   "cell_type": "code",
   "execution_count": 34,
   "metadata": {},
   "outputs": [
    {
     "data": {
      "image/png": "[encoded data removed]",
      "text/plain": [
       "<Figure size 800x600 with 1 Axes>"
      ]
     },
     "metadata": {},
     "output_type": "display_data"
    }
   ],
   "source": [
    "plt.figure(figsize=(8, 6))\n",
    "plt.title(\"KNN: Varying Number of Neighbors\")\n",
    "plt.plot(neighbors, train_accuracies.values(), label=\"Training Accuracy\")\n",
    "plt.plot(neighbors, test_accuracies.values(), label=\"Testing Accuracy\")\n",
    "plt.legend()\n",
    "plt.xlabel(\"Number of Neighbors\")\n",
    "plt.ylabel(\"Accuracy\")\n",
    "plt.show()"
   ]
  },
  {
   "cell_type": "code",
   "execution_count": 35,
   "metadata": {},
   "outputs": [
    {
     "name": "stdout",
     "output_type": "stream",
     "text": [
      "{1: 1638079.187010664, 2: 1396978.8375127213, 3: 1352921.1483577758, 4: 1377222.0733305125, 5: 1320346.6062114974, 6: 1339262.2043571703, 7: 1339956.1383444092, 8: 1348087.59792981, 9: 1349130.320224208, 10: 1354202.7728813726, 11: 1372092.5782899135, 12: 1353515.5244531368, 13: 1351237.022332294, 14: 1354658.2320198016, 15: 1356841.2468521616, 16: 1365554.8789627498, 17: 1369057.7845544475, 18: 1378885.6214674865, 19: 1389884.1375168185, 20: 1384082.9625286656, 21: 1389523.7647235359, 22: 1393870.2139934057, 23: 1400425.4312935725, 24: 1408046.3696906574, 25: 1413427.4158259686}\n",
      "{1: 0.4177171244147476, 2: 0.5765092900498132, 3: 0.6028000322545009, 4: 0.5884030168783512, 5: 0.6216966907068884, 6: 0.6107797217479778, 7: 0.6103762710231879, 8: 0.6056330968568076, 9: 0.6050227890450639, 10: 0.6020471393939884, 11: 0.5914633118888135, 12: 0.6024509534839899, 13: 0.6037882915575254, 14: 0.6017794073367447, 15: 0.6004949181717113, 16: 0.5953471998871313, 17: 0.5932685158228084, 18: 0.5874080794030283, 19: 0.5807998491147119, 20: 0.584291907571853, 21: 0.5810172035553391, 22: 0.5783919362382772, 23: 0.5744170593672837, 24: 0.5697725188899608, 25: 0.5664778864632756}\n"
     ]
    }
   ],
   "source": [
    "import matplotlib.pyplot as plt\n",
    "import numpy as np\n",
    "from sklearn.metrics import mean_squared_error as MSE \n",
    "train_accuracies = {}\n",
    "test_accuracies = {}\n",
    "rmse_knn_arr = {}\n",
    "neighbors = np.arange(1, 26)\n",
    "for neighbor in neighbors:\n",
    "    knn = KNeighborsRegressor(n_neighbors=neighbor)\n",
    "    knn.fit(X_train_scaledStd, y_train)\n",
    "    train_accuracies[neighbor] = knn.score(X_train_scaledStd, y_train)\n",
    "    test_accuracies[neighbor] = knn.score(X_test_scaledStd, y_test)\n",
    "    y_pred=knn.predict(X_test_scaledStd)\n",
    "    mse_knn= MSE(y_test, y_pred)\n",
    "    rmse_knn = mse_knn**(1/2)\n",
    "    rmse_knn_arr[neighbor]=rmse_knn\n",
    "\n",
    "print(rmse_knn_arr)\n",
    "print(test_accuracies)"
   ]
  },
  {
   "cell_type": "code",
   "execution_count": 36,
   "metadata": {},
   "outputs": [
    {
     "data": {
      "image/png": "[encoded data removed]",
      "text/plain": [
       "<Figure size 800x600 with 1 Axes>"
      ]
     },
     "metadata": {},
     "output_type": "display_data"
    }
   ],
   "source": [
    "plt.figure(figsize=(8, 6))\n",
    "plt.title(\"KNN: Varying Number of Neighbors\")\n",
    "plt.plot(neighbors, train_accuracies.values(), label=\"Training Accuracy\")\n",
    "plt.plot(neighbors, test_accuracies.values(), label=\"Testing Accuracy\")\n",
    "plt.legend()\n",
    "plt.xlabel(\"Number of Neighbors\")\n",
    "plt.ylabel(\"Accuracy\")\n",
    "plt.show()"
   ]
  },
  {
   "cell_type": "code",
   "execution_count": 37,
   "metadata": {},
   "outputs": [
    {
     "name": "stdout",
     "output_type": "stream",
     "text": [
      "0.5335169546788655\n",
      "[0.4856681  0.27715472 0.76805834 0.57787244 0.55883118]\n"
     ]
    }
   ],
   "source": [
    "knn = KNeighborsRegressor(n_neighbors=5)\n",
    "knn.fit(X_train_scaledStd, y_train)\n",
    "from sklearn.model_selection import cross_val_score\n",
    "knn_cv_scores = cross_val_score(knn, X_train_scaledStd, y_train, cv=5)\n",
    "print(np.mean(knn_cv_scores))\n",
    "print(knn_cv_scores)\n",
    "knn.score(X_test_scaledStd, y_test)\n",
    "y_pred=knn.predict(X_test_scaledStd)\n",
    "mse_knn= MSE(y_test, y_pred)\n",
    "rmse_knn = mse_knn**(1/2)\n",
    "rmse_knn_arr[neighbor]=rmse_knn"
   ]
  },
  {
   "cell_type": "code",
   "execution_count": 38,
   "metadata": {},
   "outputs": [
    {
     "name": "stdout",
     "output_type": "stream",
     "text": [
      "2602759.191342994\n"
     ]
    },
    {
     "name": "stderr",
     "output_type": "stream",
     "text": [
      "h:\\anaconda3\\Lib\\site-packages\\sklearn\\base.py:457: UserWarning: X has feature names, but KNeighborsRegressor was fitted without feature names\n",
      "  warnings.warn(\n"
     ]
    }
   ],
   "source": [
    "from sklearn.metrics import mean_squared_error as MSE\n",
    "y_pred=knn.predict(X_test)\n",
    "mse_knn= MSE(y_test, y_pred)\n",
    "rmse_knn = mse_knn**(1/2)\n",
    "print(rmse_knn)"
   ]
  }
 ],
 "metadata": {
  "kernelspec": {
   "display_name": "base",
   "language": "python",
   "name": "python3"
  },
  "language_info": {
   "codemirror_mode": {
    "name": "ipython",
    "version": 3
   },
   "file_extension": ".py",
   "mimetype": "text/x-python",
   "name": "python",
   "nbconvert_exporter": "python",
   "pygments_lexer": "ipython3",
   "version": "3.11.5"
  }
 },
 "nbformat": 4,
 "nbformat_minor": 2
}
