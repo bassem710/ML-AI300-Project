{
 "cells": [
  {
   "cell_type": "code",
   "execution_count": 36,
   "metadata": {},
   "outputs": [],
   "source": [
    "import numpy as np\n",
    "import pandas as pd\n",
    "import matplotlib.pyplot as plt\n",
    "from sklearn.preprocessing import MinMaxScaler\n",
    "from sklearn.preprocessing import LabelEncoder\n",
    "from sklearn.preprocessing import StandardScaler\n",
    "from sklearn.neighbors import KNeighborsRegressor\n",
    "from sklearn.model_selection import train_test_split\n",
    "from sklearn.metrics import mean_squared_error as MSE \n",
    "from sklearn.model_selection import cross_val_score"
   ]
  },
  {
   "cell_type": "code",
   "execution_count": 37,
   "metadata": {},
   "outputs": [
    {
     "name": "stdout",
     "output_type": "stream",
     "text": [
      "<class 'pandas.core.frame.DataFrame'>\n",
      "RangeIndex: 545 entries, 0 to 544\n",
      "Data columns (total 13 columns):\n",
      " #   Column            Non-Null Count  Dtype \n",
      "---  ------            --------------  ----- \n",
      " 0   price             545 non-null    int64 \n",
      " 1   area              545 non-null    int64 \n",
      " 2   bedrooms          545 non-null    int64 \n",
      " 3   bathrooms         545 non-null    int64 \n",
      " 4   stories           545 non-null    int64 \n",
      " 5   mainroad          545 non-null    object\n",
      " 6   guestroom         545 non-null    object\n",
      " 7   basement          545 non-null    object\n",
      " 8   hotwaterheating   545 non-null    object\n",
      " 9   airconditioning   545 non-null    object\n",
      " 10  parking           545 non-null    int64 \n",
      " 11  prefarea          545 non-null    object\n",
      " 12  furnishingstatus  545 non-null    object\n",
      "dtypes: int64(6), object(7)\n",
      "memory usage: 55.5+ KB\n"
     ]
    }
   ],
   "source": [
    "############# Load dataset ##############\n",
    "house_ds = pd.read_csv(\"Housing.csv\")\n",
    "house_ds.info()"
   ]
  },
  {
   "cell_type": "code",
   "execution_count": 38,
   "metadata": {},
   "outputs": [],
   "source": [
    "############# Label Encoding & get_dummies ##############\n",
    "le = LabelEncoder()\n",
    "house_ds[\"guestroom_binary\"] = le.fit_transform(house_ds[\"guestroom\"])\n",
    "house_ds[\"mainroad_binary\"] = le.fit_transform(house_ds[\"mainroad\"])\n",
    "house_ds[\"basement_binary\"] = le.fit_transform(house_ds[\"basement\"])\n",
    "house_ds[\"hotwaterheating_binary\"] = le.fit_transform(house_ds[\"hotwaterheating\"])\n",
    "house_ds[\"airconditioning_binary\"] = le.fit_transform(house_ds[\"airconditioning\"])\n",
    "house_ds[\"prefarea_binary\"] = le.fit_transform(house_ds[\"prefarea\"])\n",
    "\n",
    "house_ds=house_ds.drop([\"mainroad\",\"guestroom\",\"basement\",\"hotwaterheating\",\"airconditioning\",\"prefarea\"],axis=1)\n",
    "house_ds=house_ds.join(pd.get_dummies(house_ds[\"furnishingstatus\"],dtype=int))\n",
    "house_ds=house_ds.drop(\"furnishingstatus\",axis=1)"
   ]
  },
  {
   "cell_type": "code",
   "execution_count": 39,
   "metadata": {},
   "outputs": [
    {
     "data": {
      "text/html": [
       "<div>\n",
       "<style scoped>\n",
       "    .dataframe tbody tr th:only-of-type {\n",
       "        vertical-align: middle;\n",
       "    }\n",
       "\n",
       "    .dataframe tbody tr th {\n",
       "        vertical-align: top;\n",
       "    }\n",
       "\n",
       "    .dataframe thead th {\n",
       "        text-align: right;\n",
       "    }\n",
       "</style>\n",
       "<table border=\"1\" class=\"dataframe\">\n",
       "  <thead>\n",
       "    <tr style=\"text-align: right;\">\n",
       "      <th></th>\n",
       "      <th>price</th>\n",
       "      <th>area</th>\n",
       "      <th>bedrooms</th>\n",
       "      <th>bathrooms</th>\n",
       "      <th>stories</th>\n",
       "      <th>parking</th>\n",
       "      <th>guestroom_binary</th>\n",
       "      <th>mainroad_binary</th>\n",
       "      <th>basement_binary</th>\n",
       "      <th>hotwaterheating_binary</th>\n",
       "      <th>airconditioning_binary</th>\n",
       "      <th>prefarea_binary</th>\n",
       "      <th>furnished</th>\n",
       "      <th>semi-furnished</th>\n",
       "      <th>unfurnished</th>\n",
       "    </tr>\n",
       "  </thead>\n",
       "  <tbody>\n",
       "    <tr>\n",
       "      <th>0</th>\n",
       "      <td>13300000</td>\n",
       "      <td>7420</td>\n",
       "      <td>4</td>\n",
       "      <td>2</td>\n",
       "      <td>3</td>\n",
       "      <td>2</td>\n",
       "      <td>0</td>\n",
       "      <td>1</td>\n",
       "      <td>0</td>\n",
       "      <td>0</td>\n",
       "      <td>1</td>\n",
       "      <td>1</td>\n",
       "      <td>1</td>\n",
       "      <td>0</td>\n",
       "      <td>0</td>\n",
       "    </tr>\n",
       "    <tr>\n",
       "      <th>1</th>\n",
       "      <td>12250000</td>\n",
       "      <td>8960</td>\n",
       "      <td>4</td>\n",
       "      <td>4</td>\n",
       "      <td>4</td>\n",
       "      <td>3</td>\n",
       "      <td>0</td>\n",
       "      <td>1</td>\n",
       "      <td>0</td>\n",
       "      <td>0</td>\n",
       "      <td>1</td>\n",
       "      <td>0</td>\n",
       "      <td>1</td>\n",
       "      <td>0</td>\n",
       "      <td>0</td>\n",
       "    </tr>\n",
       "    <tr>\n",
       "      <th>2</th>\n",
       "      <td>12250000</td>\n",
       "      <td>9960</td>\n",
       "      <td>3</td>\n",
       "      <td>2</td>\n",
       "      <td>2</td>\n",
       "      <td>2</td>\n",
       "      <td>0</td>\n",
       "      <td>1</td>\n",
       "      <td>1</td>\n",
       "      <td>0</td>\n",
       "      <td>0</td>\n",
       "      <td>1</td>\n",
       "      <td>0</td>\n",
       "      <td>1</td>\n",
       "      <td>0</td>\n",
       "    </tr>\n",
       "    <tr>\n",
       "      <th>3</th>\n",
       "      <td>12215000</td>\n",
       "      <td>7500</td>\n",
       "      <td>4</td>\n",
       "      <td>2</td>\n",
       "      <td>2</td>\n",
       "      <td>3</td>\n",
       "      <td>0</td>\n",
       "      <td>1</td>\n",
       "      <td>1</td>\n",
       "      <td>0</td>\n",
       "      <td>1</td>\n",
       "      <td>1</td>\n",
       "      <td>1</td>\n",
       "      <td>0</td>\n",
       "      <td>0</td>\n",
       "    </tr>\n",
       "    <tr>\n",
       "      <th>4</th>\n",
       "      <td>11410000</td>\n",
       "      <td>7420</td>\n",
       "      <td>4</td>\n",
       "      <td>1</td>\n",
       "      <td>2</td>\n",
       "      <td>2</td>\n",
       "      <td>1</td>\n",
       "      <td>1</td>\n",
       "      <td>1</td>\n",
       "      <td>0</td>\n",
       "      <td>1</td>\n",
       "      <td>0</td>\n",
       "      <td>1</td>\n",
       "      <td>0</td>\n",
       "      <td>0</td>\n",
       "    </tr>\n",
       "    <tr>\n",
       "      <th>5</th>\n",
       "      <td>10850000</td>\n",
       "      <td>7500</td>\n",
       "      <td>3</td>\n",
       "      <td>3</td>\n",
       "      <td>1</td>\n",
       "      <td>2</td>\n",
       "      <td>0</td>\n",
       "      <td>1</td>\n",
       "      <td>1</td>\n",
       "      <td>0</td>\n",
       "      <td>1</td>\n",
       "      <td>1</td>\n",
       "      <td>0</td>\n",
       "      <td>1</td>\n",
       "      <td>0</td>\n",
       "    </tr>\n",
       "    <tr>\n",
       "      <th>6</th>\n",
       "      <td>10150000</td>\n",
       "      <td>8580</td>\n",
       "      <td>4</td>\n",
       "      <td>3</td>\n",
       "      <td>4</td>\n",
       "      <td>2</td>\n",
       "      <td>0</td>\n",
       "      <td>1</td>\n",
       "      <td>0</td>\n",
       "      <td>0</td>\n",
       "      <td>1</td>\n",
       "      <td>1</td>\n",
       "      <td>0</td>\n",
       "      <td>1</td>\n",
       "      <td>0</td>\n",
       "    </tr>\n",
       "    <tr>\n",
       "      <th>7</th>\n",
       "      <td>10150000</td>\n",
       "      <td>16200</td>\n",
       "      <td>5</td>\n",
       "      <td>3</td>\n",
       "      <td>2</td>\n",
       "      <td>0</td>\n",
       "      <td>0</td>\n",
       "      <td>1</td>\n",
       "      <td>0</td>\n",
       "      <td>0</td>\n",
       "      <td>0</td>\n",
       "      <td>0</td>\n",
       "      <td>0</td>\n",
       "      <td>0</td>\n",
       "      <td>1</td>\n",
       "    </tr>\n",
       "    <tr>\n",
       "      <th>8</th>\n",
       "      <td>9870000</td>\n",
       "      <td>8100</td>\n",
       "      <td>4</td>\n",
       "      <td>1</td>\n",
       "      <td>2</td>\n",
       "      <td>2</td>\n",
       "      <td>1</td>\n",
       "      <td>1</td>\n",
       "      <td>1</td>\n",
       "      <td>0</td>\n",
       "      <td>1</td>\n",
       "      <td>1</td>\n",
       "      <td>1</td>\n",
       "      <td>0</td>\n",
       "      <td>0</td>\n",
       "    </tr>\n",
       "    <tr>\n",
       "      <th>9</th>\n",
       "      <td>9800000</td>\n",
       "      <td>5750</td>\n",
       "      <td>3</td>\n",
       "      <td>2</td>\n",
       "      <td>4</td>\n",
       "      <td>1</td>\n",
       "      <td>1</td>\n",
       "      <td>1</td>\n",
       "      <td>0</td>\n",
       "      <td>0</td>\n",
       "      <td>1</td>\n",
       "      <td>1</td>\n",
       "      <td>0</td>\n",
       "      <td>0</td>\n",
       "      <td>1</td>\n",
       "    </tr>\n",
       "  </tbody>\n",
       "</table>\n",
       "</div>"
      ],
      "text/plain": [
       "      price   area  bedrooms  bathrooms  stories  parking  guestroom_binary  \\\n",
       "0  13300000   7420         4          2        3        2                 0   \n",
       "1  12250000   8960         4          4        4        3                 0   \n",
       "2  12250000   9960         3          2        2        2                 0   \n",
       "3  12215000   7500         4          2        2        3                 0   \n",
       "4  11410000   7420         4          1        2        2                 1   \n",
       "5  10850000   7500         3          3        1        2                 0   \n",
       "6  10150000   8580         4          3        4        2                 0   \n",
       "7  10150000  16200         5          3        2        0                 0   \n",
       "8   9870000   8100         4          1        2        2                 1   \n",
       "9   9800000   5750         3          2        4        1                 1   \n",
       "\n",
       "   mainroad_binary  basement_binary  hotwaterheating_binary  \\\n",
       "0                1                0                       0   \n",
       "1                1                0                       0   \n",
       "2                1                1                       0   \n",
       "3                1                1                       0   \n",
       "4                1                1                       0   \n",
       "5                1                1                       0   \n",
       "6                1                0                       0   \n",
       "7                1                0                       0   \n",
       "8                1                1                       0   \n",
       "9                1                0                       0   \n",
       "\n",
       "   airconditioning_binary  prefarea_binary  furnished  semi-furnished  \\\n",
       "0                       1                1          1               0   \n",
       "1                       1                0          1               0   \n",
       "2                       0                1          0               1   \n",
       "3                       1                1          1               0   \n",
       "4                       1                0          1               0   \n",
       "5                       1                1          0               1   \n",
       "6                       1                1          0               1   \n",
       "7                       0                0          0               0   \n",
       "8                       1                1          1               0   \n",
       "9                       1                1          0               0   \n",
       "\n",
       "   unfurnished  \n",
       "0            0  \n",
       "1            0  \n",
       "2            0  \n",
       "3            0  \n",
       "4            0  \n",
       "5            0  \n",
       "6            0  \n",
       "7            1  \n",
       "8            0  \n",
       "9            1  "
      ]
     },
     "execution_count": 39,
     "metadata": {},
     "output_type": "execute_result"
    }
   ],
   "source": [
    "house_ds.head(10)"
   ]
  },
  {
   "cell_type": "code",
   "execution_count": 40,
   "metadata": {},
   "outputs": [],
   "source": [
    "X = house_ds.drop(\"price\", axis=1)\n",
    "y = house_ds[\"price\"]\n",
    "X_train, X_test, y_train, y_test = train_test_split(X, y, test_size=0.25, random_state=42)"
   ]
  },
  {
   "cell_type": "code",
   "execution_count": 41,
   "metadata": {},
   "outputs": [
    {
     "name": "stdout",
     "output_type": "stream",
     "text": [
      "KNN score : 0.34\n"
     ]
    }
   ],
   "source": [
    "############# KNN ##############\n",
    "knn = KNeighborsRegressor()\n",
    "knn.fit(X_train,y_train)\n",
    "knn.score(X_test,y_test)\n",
    "print(f\"KNN score : {round(knn.score(X_test,y_test), 2)}\")"
   ]
  },
  {
   "cell_type": "code",
   "execution_count": 42,
   "metadata": {},
   "outputs": [
    {
     "name": "stdout",
     "output_type": "stream",
     "text": [
      "Min Max Scaler score : 0.52\n"
     ]
    }
   ],
   "source": [
    "############# Min Max Scaler ##############\n",
    "scaler = MinMaxScaler(feature_range=(0, 1))\n",
    "X_train_scaledMinMax = scaler.fit_transform(X_train)\n",
    "X_test_scaledMinMax = scaler.fit_transform(X_test)\n",
    "knn.fit(X_train_scaledMinMax,y_train)\n",
    "print(f\"Min Max Scaler score : {round(knn.score(X_test_scaledMinMax,y_test), 2)}\")"
   ]
  },
  {
   "cell_type": "code",
   "execution_count": 43,
   "metadata": {},
   "outputs": [
    {
     "name": "stdout",
     "output_type": "stream",
     "text": [
      "Standard Scaler score : 0.62\n"
     ]
    }
   ],
   "source": [
    "############# Standard Scaler ##############\n",
    "scaler = StandardScaler()\n",
    "X_train_scaledStd = scaler.fit_transform(X_train)\n",
    "X_test_scaledStd = scaler.transform(X_test)\n",
    "knn.fit(X_train_scaledStd,y_train)\n",
    "print(f\"Standard Scaler score : {round(knn.score(X_test_scaledStd,y_test), 2)}\")"
   ]
  },
  {
   "cell_type": "code",
   "execution_count": 44,
   "metadata": {},
   "outputs": [
    {
     "name": "stdout",
     "output_type": "stream",
     "text": [
      "{1: 1978449.9932115257, 2: 1852975.2027741724, 3: 1805019.2029105932, 4: 1805724.9566702282, 5: 1745470.849403842, 6: 1767128.121179406, 7: 1778453.6996887203, 8: 1812647.1547950304, 9: 1804467.9103242313, 10: 1790634.5895363342, 11: 1811359.946154149, 12: 1825075.2651234856, 13: 1824825.5160603279, 14: 1834110.9363925369, 15: 1827997.0264389513, 16: 1837325.6676864908, 17: 1827714.5276682419, 18: 1839571.9102812428, 19: 1843118.6949734685, 20: 1841953.4079698296, 21: 1836965.920313203, 22: 1836006.8115193052, 23: 1836852.3780942198, 24: 1833108.172117439, 25: 1840595.0210160604}\n",
      "{1: 0.15059583013178046, 2: 0.2549190693440827, 3: 0.29298620683400256, 4: 0.2924332208150664, 5: 0.3388660887544288, 6: 0.3223580093323216, 7: 0.31364411798666025, 8: 0.2869979462663207, 9: 0.29341801602429674, 10: 0.30421001656979285, 11: 0.2880102299105335, 12: 0.2771872712409834, 13: 0.27738508165867837, 14: 0.27001248171818415, 15: 0.2748711182932141, 16: 0.26745127315702955, 17: 0.27509522389744967, 18: 0.2656590073295535, 19: 0.2628245867489084, 20: 0.2637564305618889, 21: 0.2677381103630435, 22: 0.26850256164019926, 23: 0.2678286292664136, 24: 0.2708104763053839, 25: 0.2648419464946432}\n"
     ]
    }
   ],
   "source": [
    "############# KNN Accuracies ##############\n",
    "train_accuracies = {}\n",
    "test_accuracies = {}\n",
    "rmse_knn_arr = {}\n",
    "neighbors = np.arange(1, 26)\n",
    "for neighbor in neighbors:\n",
    "    knn = KNeighborsRegressor(n_neighbors=neighbor)\n",
    "    knn.fit(X_train, y_train)\n",
    "    train_accuracies[neighbor] = knn.score(X_train, y_train)\n",
    "    test_accuracies[neighbor] = knn.score(X_test, y_test)\n",
    "    y_pred=knn.predict(X_test)\n",
    "    mse_knn= MSE(y_test, y_pred)\n",
    "    rmse_knn = mse_knn**(1/2)\n",
    "    rmse_knn_arr[neighbor] = rmse_knn\n",
    "\n",
    "print(rmse_knn_arr)\n",
    "print(test_accuracies)"
   ]
  },
  {
   "cell_type": "code",
   "execution_count": 45,
   "metadata": {},
   "outputs": [
    {
     "data": {
      "image/png": "[encoded data removed]",
      "text/plain": [
       "<Figure size 800x600 with 1 Axes>"
      ]
     },
     "metadata": {},
     "output_type": "display_data"
    }
   ],
   "source": [
    "############# KNN Accuracies Plot ##############\n",
    "plt.figure(figsize=(8, 6))\n",
    "plt.title(\"KNN: Varying Number of Neighbors\")\n",
    "plt.plot(neighbors, train_accuracies.values(), label=\"Training Accuracy\")\n",
    "plt.plot(neighbors, test_accuracies.values(), label=\"Testing Accuracy\")\n",
    "plt.legend()\n",
    "plt.xlabel(\"Number of Neighbors\")\n",
    "plt.ylabel(\"Accuracy\")\n",
    "plt.show()"
   ]
  },
  {
   "cell_type": "code",
   "execution_count": 46,
   "metadata": {},
   "outputs": [
    {
     "name": "stdout",
     "output_type": "stream",
     "text": [
      "{1: 1638079.187010664, 2: 1396978.8375127213, 3: 1353072.4444758147, 4: 1377222.0733305125, 5: 1320346.6062114974, 6: 1339262.2043571703, 7: 1339652.58874317, 8: 1348087.59792981, 9: 1349130.320224208, 10: 1354604.8073224914, 11: 1371929.5148142441, 12: 1353515.5244531368, 13: 1351334.4582922354, 14: 1354651.0952317542, 15: 1356985.2952032206, 16: 1365575.358081941, 17: 1368975.1565866666, 18: 1379370.2687102505, 19: 1390017.3780266012, 20: 1384097.354410789, 21: 1389925.01677647, 22: 1393989.8383746145, 23: 1400229.9702705857, 24: 1407898.0632598195, 25: 1413214.8612237482}\n",
      "{1: 0.4177171244147476, 2: 0.5765092900498132, 3: 0.6027111901612923, 4: 0.5884030168783512, 5: 0.6216966907068884, 6: 0.6107797217479778, 7: 0.6105527793847708, 8: 0.6056330968568076, 9: 0.6050227890450639, 10: 0.6018108165802087, 11: 0.5915604094970249, 12: 0.6024509534839899, 13: 0.6037311488661956, 14: 0.6017836032415308, 15: 0.6004100871670672, 16: 0.5953350627036441, 17: 0.5933176099986432, 18: 0.5871179948962661, 19: 0.5807194724595282, 20: 0.5842832623487977, 21: 0.580775189730002, 22: 0.578319566849181, 23: 0.5745358505144853, 24: 0.5698631439479114, 25: 0.5666082648480619}\n"
     ]
    }
   ],
   "source": [
    "############# Override previous accuracies => KNN Scaled Accuracies ##############\n",
    "train_accuracies = {}\n",
    "test_accuracies = {}\n",
    "rmse_knn_arr = {}\n",
    "neighbors = np.arange(1, 26)\n",
    "for neighbor in neighbors:\n",
    "    knn = KNeighborsRegressor(n_neighbors=neighbor)\n",
    "    knn.fit(X_train_scaledStd, y_train)\n",
    "    train_accuracies[neighbor] = knn.score(X_train_scaledStd, y_train)\n",
    "    test_accuracies[neighbor] = knn.score(X_test_scaledStd, y_test)\n",
    "    y_pred=knn.predict(X_test_scaledStd)\n",
    "    mse_knn= MSE(y_test, y_pred)\n",
    "    rmse_knn = mse_knn**(1/2)\n",
    "    rmse_knn_arr[neighbor]=rmse_knn\n",
    "\n",
    "print(rmse_knn_arr)\n",
    "print(test_accuracies)"
   ]
  },
  {
   "cell_type": "code",
   "execution_count": 47,
   "metadata": {},
   "outputs": [
    {
     "data": {
      "image/png": "[encoded data removed]",
      "text/plain": [
       "<Figure size 800x600 with 1 Axes>"
      ]
     },
     "metadata": {},
     "output_type": "display_data"
    }
   ],
   "source": [
    "############# KNN Scaled Accuracies Plots ##############\n",
    "plt.figure(figsize=(8, 6))\n",
    "plt.title(\"KNN: Varying Number of Neighbors\")\n",
    "plt.plot(neighbors, train_accuracies.values(), label=\"Training Accuracy\")\n",
    "plt.plot(neighbors, test_accuracies.values(), label=\"Testing Accuracy\")\n",
    "plt.legend()\n",
    "plt.xlabel(\"Number of Neighbors\")\n",
    "plt.ylabel(\"Accuracy\")\n",
    "plt.show()"
   ]
  },
  {
   "cell_type": "code",
   "execution_count": 48,
   "metadata": {},
   "outputs": [
    {
     "name": "stdout",
     "output_type": "stream",
     "text": [
      "KNN Scaled Score : 0.57\n",
      "RMSE : 1413214.86\n"
     ]
    }
   ],
   "source": [
    "############# KNN Scaled Score ##############\n",
    "knn_scaled_score = knn.score(X_test_scaledStd, y_test)\n",
    "print(f\"KNN Scaled Score : {round(knn_scaled_score, 2)}\")\n",
    "\n",
    "y_pred = knn.predict(X_test_scaledStd)\n",
    "mse_knn = MSE(y_test, y_pred)\n",
    "rmse_knn = mse_knn**(1/2)\n",
    "print(f\"RMSE : {round(rmse_knn, 2)}\")"
   ]
  },
  {
   "cell_type": "code",
   "execution_count": 49,
   "metadata": {},
   "outputs": [
    {
     "name": "stdout",
     "output_type": "stream",
     "text": [
      "Cross-Validation scores : [0.48623336 0.27715472 0.76913972 0.57747508 0.55883118]\n",
      "Cross-Validation mean : 0.53\n",
      "Cross-Validation highest score : 0.77\n"
     ]
    }
   ],
   "source": [
    "############# Cross-Validation ##############\n",
    "knn = KNeighborsRegressor(n_neighbors=5)\n",
    "knn.fit(X_train_scaledStd, y_train)\n",
    "knn_cv_scores = cross_val_score(knn, X_train_scaledStd, y_train, cv=5)\n",
    "\n",
    "print(f\"Cross-Validation scores : {knn_cv_scores}\")\n",
    "print(f\"Cross-Validation mean : {round(np.mean(knn_cv_scores), 2)}\")\n",
    "print(f\"Cross-Validation highest score : {round(np.max(knn_cv_scores), 2)}\")"
   ]
  }
 ],
 "metadata": {
  "kernelspec": {
   "display_name": "base",
   "language": "python",
   "name": "python3"
  },
  "language_info": {
   "codemirror_mode": {
    "name": "ipython",
    "version": 3
   },
   "file_extension": ".py",
   "mimetype": "text/x-python",
   "name": "python",
   "nbconvert_exporter": "python",
   "pygments_lexer": "ipython3",
   "version": "3.11.5"
  }
 },
 "nbformat": 4,
 "nbformat_minor": 2
}
